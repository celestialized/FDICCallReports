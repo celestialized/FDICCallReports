{
 "cells": [
  {
   "cell_type": "markdown",
   "metadata": {},
   "source": [
    "Just a reminder:\n",
    "RCFD2107: Obligations (other than securities and leases) of states and political subdivisions in the\n",
    "U.S (Consolidated Bank). Dollar amounts in thousands.\n",
    "RCON2107: Obligations (other than securities and leases) of states and political subdivisions in the\n",
    "U.S (Domestic Offices). Dollar amounts in thousands."
   ]
  },
  {
   "cell_type": "code",
   "execution_count": 2,
   "metadata": {
    "scrolled": true,
    "pycharm": {
     "is_executing": false
    }
   },
   "outputs": [],
   "source": [
    "import pandas as pd\n",
    "import numpy as np\n",
    "import zipfile\n",
    "import io\n",
    "import os\n",
    "import gc\n",
    "\n",
    "directory = os.fsencode('data')\n",
    "muni_banks_table = pd.DataFrame()\n",
    "quarter = {'0331': 'Q1', '0630': 'Q2', '0930': 'Q3', '1231': 'Q4'}\n",
    "\n",
    "for file in os.listdir(directory):\n",
    "    # prep the zipfiles to open\n",
    "    filename = os.fsdecode(file)\n",
    "    zipf = zipfile.ZipFile('data/'+filename)\n",
    "    \n",
    "    # find some designation to find the right file:\n",
    "    words = filename.split()\n",
    "    call_report_date = words[-1].replace('.zip', '')\n",
    "    \n",
    "    # find the bank designation\n",
    "    bank_filename = 'FFIEC CDR Call Bulk POR {}.txt'.format(call_report_date)\n",
    "    bank_file = pd.read_csv(zipf.open(bank_filename), sep='\\t').set_index('IDRSSD')\n",
    "\n",
    "    # grab the call schedule\n",
    "    securities_filename = 'FFIEC CDR Call Schedule RCCI {}.txt'.format(call_report_date)\n",
    "    securities_file = pd.read_csv(zipf.open(securities_filename), sep='\\t', header=[0], skiprows=[1]).set_index('IDRSSD')\n",
    "\n",
    "    # just suss out the muni data\n",
    "    muni_loans = securities_file['RCFD2107'].dropna().to_frame()\n",
    "    muni_loans['CallDate'] = call_report_date[-4:]+quarter[call_report_date[0:4]]\n",
    "    \n",
    "    # merge the tables together, append to dataframe\n",
    "    muni_bank = pd.merge(muni_loans, bank_file, how='left', left_index=True, right_index=True)\n",
    "    if muni_banks_table.empty:\n",
    "        muni_banks_table = muni_bank\n",
    "    else:\n",
    "        muni_banks_table = pd.concat([muni_banks_table, muni_bank])\n",
    "        \n",
    "    # garbage clean up\n",
    "    del [[bank_file, securities_file, muni_loans, muni_bank]]\n",
    "    gc.collect()\n",
    "    bank_file = pd.DataFrame()\n",
    "    securities_file = pd.DataFrame()\n",
    "    muni_loans = pd.DataFrame()\n",
    "    muni_bank = pd.DataFrame()"
   ]
  },
  {
   "cell_type": "code",
   "execution_count": 4,
   "metadata": {
    "pycharm": {
     "is_executing": false
    }
   },
   "outputs": [],
   "source": [
    "# let's look at the sums\n",
    "muni_banks_table[muni_banks_table['RCFD2107'] != 0]\n",
    "muni_total = muni_banks_table.groupby(['CallDate', 'Financial Institution Name'])['RCFD2107'].sum().unstack(level=-2).fillna(0)\n",
    "temp = muni_total.transpose()\n",
    "temp['ALL BANKS'] = temp.sum(axis=1)\n",
    "muni_total = temp.transpose()\n",
    "muni_total = muni_total/1000\n",
    "muni_total['sum'] = muni_total.sum(axis=1)\n",
    "muni_total = muni_total[muni_total['sum'] != 0]\n",
    "muni_total.drop('sum', axis=1, inplace=True)\n",
    "\n",
    "total_only = muni_total[muni_total.index=='ALL BANKS'].copy().transpose()\n",
    "# let's drop the total for now DELETE THIS LINE IF YOU WANT TO KEEP IT\n",
    "muni_total = muni_total.drop('ALL BANKS', axis=0)"
   ]
  },
  {
   "cell_type": "markdown",
   "metadata": {},
   "source": [
    "Then taking all that work and converting it into an easy to read csv for heroku to fly with."
   ]
  },
  {
   "cell_type": "code",
   "execution_count": 5,
   "metadata": {
    "pycharm": {
     "is_executing": false
    }
   },
   "outputs": [],
   "source": [
    "muni_total.to_csv('munidata.csv')\n",
    "total_only.to_csv('munitotal.csv')"
   ]
  },
  {
   "cell_type": "code",
   "execution_count": null,
   "metadata": {},
   "outputs": [],
   "source": []
  },
  {
   "cell_type": "code",
   "execution_count": null,
   "metadata": {},
   "outputs": [],
   "source": []
  }
 ],
 "metadata": {
  "kernelspec": {
   "display_name": "Python 3",
   "language": "python",
   "name": "python3"
  },
  "language_info": {
   "codemirror_mode": {
    "name": "ipython",
    "version": 3
   },
   "file_extension": ".py",
   "mimetype": "text/x-python",
   "name": "python",
   "nbconvert_exporter": "python",
   "pygments_lexer": "ipython3",
   "version": "3.7.2"
  }
 },
 "nbformat": 4,
 "nbformat_minor": 1
}